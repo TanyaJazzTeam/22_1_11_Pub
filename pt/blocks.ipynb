{
  "cells": [
    {
      "cell_type": "markdown",
      "metadata": {
      },
      "source": [
        "# Blocos"
      ]
    },
    {
      "cell_type": "markdown",
      "metadata": {
      },
      "source": [
        "## Quadra\n",
        "\n",
        "<!-- ::: q-block -->\n",
        "\n",
        "### Título do bloco\n",
        "\n",
        "Lorem ipsum dolor sit amet, consectetur adipiscing elit. Sed egestas erat tellus, ac molestie eros convallis vitae. Ut ac enim vitae diam efficitur dignissim.\n",
        "\n",
        "Nullam pharetra imperdiet tellus, ac tristique turpis facilisis sed.\n",
        "\n",
        "<!-- ::: -->\n"
      ]
    },
    {
      "cell_type": "markdown",
      "metadata": {
      },
      "source": [
        " \n",
        "\n",
        "## Painel de exercícios\n",
        "\n",
        "<!-- ::: q-block.exercise -->\n",
        "\n",
        "### Título do exercício\n",
        "\n",
        "Lorem ipsum dolor sit amet, consectetur adipiscing elit. Duis consectetur rhoncus felis, um aliquam arcu finibus eget.\n",
        "\n",
        "In bibendum nibh ut dolor ultrices sagittis. Sed imperdiet, tellus vitae mattis convallis, arcu eros suscipit justo, a consequat enim lectus vel lacus.\n",
        "\n",
        "<!-- ::: -->\n"
      ]
    },
    {
      "cell_type": "markdown",
      "metadata": {
      },
      "source": [
        " \n",
        "\n",
        "## Lembrete\n",
        "\n",
        "<!-- ::: q-block.reminder -->\n",
        "\n",
        "### Título do lembrete\n",
        "\n",
        "\n",
        "<summary>Detalhe um</summary> Lorem ipsum dolor sit amet, consectetur adipiscing elit. Aenean blandit pharetra sem ut varius.\n",
        "\n",
        "```\n",
        "Proin non sem ipsum. Duis blandit est non tellus porta tincidunt. Sed nec neque sagittis, tristique dui a, tempus dolor.\n",
        "```\n",
        "\n",
        "\n",
        "\n",
        "\n",
        "\n",
        "<summary>Detalhe Dois</summary> Lorem ipsum dolor sit amet, consectetur adipiscing elit. Donec lacinia in tortor non iaculis. Suspendisse hendrerit nisl vitae nisi fermentum, quis efficitur turpis tempus.\n",
        "\n",
        "```\n",
        "Etiam blandit blandit ex a hendrerit. Suspendisse ornare, nulla sed auctor commodo, enim tortor vehicula erat, at consectetur elit eros nec felis.\n",
        "```\n",
        "\n",
        "\n",
        "\n",
        "\n",
        "<!-- ::: -->\n"
      ]
    },
    {
      "cell_type": "markdown",
      "metadata": {
      },
      "source": [
        " \n",
        "\n",
        "## Guias\n",
        "\n",
        "<!-- ::: q-block.tabs -->\n",
        "\n",
        "### Título das abas\n",
        "\n",
        "<!-- ::: tab -->\n",
        "\n",
        "### Aba um\n",
        "\n",
        "Lorem ipsum dolor sit amet, consectetur adipiscing elit. Donec comodo nunc eu faucibus dictum.\n",
        "\n",
        "Etiam dignissim dignissim tortor, ut tincidunt ante ullamcorper id. Morbi ante nisi, pretium at ultrices in, lacinia vitae lorem. Ut ac leo ante.\n",
        "\n",
        "<!-- ::: tab -->\n",
        "\n",
        "### Aba Dois\n",
        "\n",
        "Lorem ipsum dolor sit amet, consectetur adipiscing elit. Phasellus varius velit velit, sed malesuada ligula ullamcorper quis. Nam volutpat ante vel justo egestas, vitae dictum lectus cursus. Suspendisse ac urna justo. Orci varius natoque penatibus et magnis dis parturient montes, nascetur ridiculus mus.\n",
        "\n",
        "<!-- ::: -->\n",
        "\n",
        "<!-- ::: -->\n"
      ]
    },
    {
      "cell_type": "markdown",
      "metadata": {
      },
      "source": [
        " \n",
        "\n",
        "## Bloco de código\n"
      ]
    },
    {
      "cell_type": "code",
      "execution_count": 1,
      "metadata": {
      },
      "outputs": [
        {
          "data": {
            "text/plain": [
              "2"
            ]
          },
          "execution_count": 1,
          "metadata": {
          },
          "output_type": "execute_result"
        }
      ],
      "source": [
        "1 + 1"
      ]
    }
  ],
  "metadata": {
    "kernelspec": {
      "display_name": "Python 3",
      "language": "python",
      "name": "python3"
    },
    "language_info": {
      "codemirror_mode": {
        "name": "ipython",
        "version": 3
      },
      "file_extension": ".py",
      "mimetype": "text/x-python",
      "name": "python",
      "nbconvert_exporter": "python",
      "pygments_lexer": "ipython3",
      "version": "3.7.7"
    }
  },
  "nbformat": 4,
  "nbformat_minor": 4
}
